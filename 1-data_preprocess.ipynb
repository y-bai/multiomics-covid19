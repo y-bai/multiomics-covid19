{
 "cells": [
  {
   "cell_type": "code",
   "execution_count": null,
   "metadata": {},
   "outputs": [],
   "source": [
    "import numpy as np\n",
    "import pandas as pd"
   ]
  },
  {
   "cell_type": "code",
   "execution_count": null,
   "metadata": {},
   "outputs": [],
   "source": [
    "# row expression\n",
    "pat_info_fname = 'data/Selected_sampleInfo.txt'\n",
    "\n",
    "lipid_fname = 'data/clean_lipidB_135exp_new.txt'\n",
    "metabolic_fname = 'data/clean_metabolicB_135exp_new.txt'\n",
    "protein_fname = 'data/clean_protein_unique_imputated_135Expr.txt'\n",
    "\n",
    "# the following is to format the data/mRNA_GeneExpr625_filteredFPKM1.txt\n",
    "# update on 6.25\n",
    "xmrna_fname = 'data/clean_mRNA_135exp.txt'\n",
    "fmrna_fname = 'data/mRNA_GeneExpr625_filteredFPKM1.txt'\n"
   ]
  },
  {
   "cell_type": "code",
   "execution_count": null,
   "metadata": {},
   "outputs": [],
   "source": [
    "def get_df(fname, pat_info_fname=None, speical_patid=None, col_prefix=None, special_colname='sampleID', scale=True, sep='\\t'):\n",
    "    \n",
    "    init_df = pd.read_csv(fname, sep=sep)\n",
    "    # f_cols: gene name\n",
    "    if col_prefix is not None:\n",
    "        f_cols = [col_prefix + '_' + x for x in init_df[special_colname].values]\n",
    "    else:\n",
    "        f_cols = init_df[special_colname].values\n",
    "    \n",
    "    # patient id\n",
    "    pat_id = list(init_df.columns)\n",
    "    pat_id.remove(special_colname)\n",
    "    \n",
    "    # get measure values and transpose\n",
    "    m_val = init_df.iloc[:,1:].values.T\n",
    "    \n",
    "    if scale:\n",
    "        # we are using MinMaxScaler\n",
    "        from sklearn.preprocessing import MinMaxScaler, StandardScaler\n",
    "        # m_val_scal = MinMaxScaler().fit_transform(m_val)\n",
    "        m_val_scal = StandardScaler().fit_transform(m_val)\n",
    "        re_df = pd.DataFrame(data=m_val_scal, columns=f_cols)\n",
    "    else:\n",
    "        re_df = pd.DataFrame(data=m_val, columns=f_cols)\n",
    "        \n",
    "    re_df['raw_specific_pat_id']=pat_id\n",
    "    if pat_info_fname is not None:\n",
    "        re_df = pd.merge(re_df, pat_info_fname, how='inner', \n",
    "                 left_on='raw_specific_pat_id', right_on=speical_patid)\n",
    "        re_df.drop(columns=[speical_patid], inplace=True)\n",
    "        re_df['label_trans_str'] = np.where(re_df['DiseaseState'].isin(['Death', 'Critical']), 'Critical', re_df['DiseaseState'])\n",
    "        re_df['label_trans'] = re_df['label_trans_str'].map({'Asymptomatic':0,'Mild':1, 'Severe':2, 'Critical':3})\n",
    "    return re_df\n",
    "\n",
    "# 6-25 update mRNA data\n",
    "def get_mRNA(xmrna_fname, pat_info_df, fmrna_fname):\n",
    "    \"\"\"\n",
    "    xmrna_fname: origanl mRNA for obtaining mRNA patient information, file name string\n",
    "    \n",
    "    pat_info_df: all patient information, DataFrame\n",
    "    \n",
    "    fmrna_fname: upadted mRNA data, file name string\n",
    "    \n",
    "    \"\"\"\n",
    "    \n",
    "    xmrna_df = get_df(xmrna_fname,pat_info_df[['RNA_sampleID','PatientID','DiseaseState']], \n",
    "                  speical_patid='RNA_sampleID',col_prefix='mrna', scale=False)\n",
    "    \n",
    "    # get patient info\n",
    "    xmrna_pats_df = xmrna_df.iloc[:,-5:].copy()\n",
    "    \n",
    "    fmrna_df = pd.read_csv(fmrna_fname, sep='\\t')\n",
    "    fmrna_df = fmrna_df.T\n",
    "    fmrna_df.reset_index(inplace=True)\n",
    "    \n",
    "    full_colname = fmrna_df.columns.to_list()\n",
    "    full_colname_col_prefix = ['mrna_'+ x for x in full_colname]\n",
    "    \n",
    "    fmrna_df.rename(columns=dict(zip(full_colname,full_colname_col_prefix)), inplace=True)\n",
    "    fmrna_df['PatientID']=fmrna_df['mrna_index'].apply(lambda x:x.split('_')[0])\n",
    "    fmrna_df.drop(columns=['mrna_index'], inplace=True)\n",
    "    \n",
    "    fmrna_merge_df = xmrna_pats_df.merge(fmrna_df, on='PatientID')\n",
    "    com_fmrna_colums = fmrna_merge_df.columns.to_list()\n",
    "    pat_info_columns = com_fmrna_colums[:5]\n",
    "    fmrna_info_colums = com_fmrna_colums[5:]\n",
    "    f_fmrna_columns = fmrna_info_colums + pat_info_columns\n",
    "    fmrna_merge_df = fmrna_merge_df[f_fmrna_columns]\n",
    "    return fmrna_merge_df"
   ]
  },
  {
   "cell_type": "markdown",
   "metadata": {},
   "source": [
    "# Get patient information"
   ]
  },
  {
   "cell_type": "code",
   "execution_count": null,
   "metadata": {},
   "outputs": [],
   "source": [
    "pat_info_df = pd.read_csv(pat_info_fname, sep='\\t')"
   ]
  },
  {
   "cell_type": "code",
   "execution_count": null,
   "metadata": {},
   "outputs": [],
   "source": [
    "print(pat_info_df.shape)\n",
    "pat_info_df.head()"
   ]
  },
  {
   "cell_type": "markdown",
   "metadata": {},
   "source": [
    "# Get Omics data"
   ]
  },
  {
   "cell_type": "code",
   "execution_count": null,
   "metadata": {},
   "outputs": [],
   "source": [
    "# lipid \n",
    "lipid_df = get_df(lipid_fname,pat_info_df[['Lipid_sampleID','PatientID','DiseaseState']], \n",
    "                  speical_patid='Lipid_sampleID',col_prefix='lipid', scale=False)\n",
    "\n",
    "# metabolic\n",
    "metabolic_df = get_df(metabolic_fname,pat_info_df[['Metabolic_sampleID','PatientID','DiseaseState']], \n",
    "                  speical_patid='Metabolic_sampleID',col_prefix='metabolic', scale=False)\n",
    "\n",
    "# protein\n",
    "protein_df = get_df(protein_fname,pat_info_df[['Protein_sampleID','PatientID','DiseaseState']], \n",
    "                  speical_patid='Protein_sampleID',col_prefix='protein', scale=False)\n",
    "\n",
    "# mRNA\n",
    "mrna_df = get_mRNA(xmrna_fname,pat_info_df, fmrna_fname)\n",
    "\n",
    "lipid_df.to_csv('f_data/orignal_lipid_df_135.csv', sep='\\t', index=False)\n",
    "metabolic_df.to_csv('f_data/orignal_metabolic_df_135.csv', sep='\\t', index=False)\n",
    "protein_df.to_csv('f_data/orignal_protein_df_135.csv', sep='\\t', index=False)\n",
    "mrna_df.to_csv('f_data/orignal_mrna_df_135.csv', sep='\\t', index=False)\n",
    "\n",
    "print('lipid_df size: {}'.format(lipid_df.shape[1]-5))\n",
    "print('metabolic_df size: {}'.format(metabolic_df.shape[1]-5))\n",
    "print('protein_df size: {}'.format(protein_df.shape[1]-5))\n",
    "print('mrna_df size: {}'.format(mrna_df.shape[1]-5))"
   ]
  },
  {
   "cell_type": "markdown",
   "metadata": {},
   "source": [
    "# Generate train and test data set"
   ]
  },
  {
   "cell_type": "code",
   "execution_count": null,
   "metadata": {},
   "outputs": [],
   "source": [
    "def gen_train_test(x, test_ratio=0.2):\n",
    "    from sklearn.model_selection import train_test_split\n",
    "    \n",
    "    x_lab = x['label_trans'].values\n",
    "    x_index = np.arange(x.shape[0])\n",
    "    \n",
    "    y_train, y_test, idx_train, idx_test = train_test_split(x_lab,\n",
    "                                                    x_index,\n",
    "                                                    stratify=x_lab, \n",
    "                                                    test_size=test_ratio, random_state=123)\n",
    "    pat_id = x['PatientID'].values\n",
    "    pid_train = pat_id[idx_train]\n",
    "    pid_test = pat_id[idx_test]\n",
    "    \n",
    "    return pid_train, pid_test, y_train, y_test"
   ]
  },
  {
   "cell_type": "code",
   "execution_count": null,
   "metadata": {},
   "outputs": [],
   "source": [
    "pid_train, pid_test, y_train, y_test = gen_train_test(lipid_df, test_ratio=0.2)\n",
    "train_pid_df = pd.DataFrame(data={'pid':pid_train, 'label':y_train})\n",
    "test_pid_df = pd.DataFrame(data={'pid':pid_test,'label':y_test})\n",
    "train_pid_df.to_csv('f_data/train_pid.csv', sep='\\t', index=False)\n",
    "test_pid_df.to_csv('f_data/test_pid.csv', sep='\\t', index=False)\n",
    "print('len(pid_train):',len(pid_train))\n",
    "print(train_pid_df['label'].value_counts()) \n",
    "print('len(pid_test):',len(pid_test))\n",
    "print(test_pid_df['label'].value_counts()) \n"
   ]
  },
  {
   "cell_type": "markdown",
   "metadata": {},
   "source": [
    "# Normalization data"
   ]
  },
  {
   "cell_type": "code",
   "execution_count": null,
   "metadata": {},
   "outputs": [],
   "source": [
    "def normalize_data(in_df, out_fname=None, test_df=None):\n",
    "    from sklearn.preprocessing import StandardScaler\n",
    "    import pickle\n",
    "    x_df = in_df.iloc[:,:-5].reset_index(drop=True)\n",
    "    y_df = in_df.iloc[:,-5:].reset_index(drop=True)\n",
    "    \n",
    "    m_val_scal = StandardScaler().fit(x_df)\n",
    "    if out_fname is not None:\n",
    "        with open(out_fname, \"wb\") as output_file:\n",
    "            pickle.dump(m_val_scal, output_file)\n",
    "    x_df_norm = pd.DataFrame(data=m_val_scal.transform(x_df),columns=x_df.columns.to_list())\n",
    "    \n",
    "    if test_df is not None:\n",
    "        x_test_df = test_df.iloc[:,:-5].reset_index(drop=True)\n",
    "        y_test_df = test_df.iloc[:,-5:].reset_index(drop=True)\n",
    "        x_test_df_norm = pd.DataFrame(data=m_val_scal.transform(x_test_df),columns=x_test_df.columns.to_list())\n",
    "        return pd.concat([x_df_norm, y_df],axis=1), pd.concat([x_test_df_norm, y_test_df],axis=1) \n",
    "    else:\n",
    "        return pd.concat([x_df_norm, y_df],axis=1) \n",
    "    # the concat is done according to the index, so to be correct, the index of x_df_norm, y_df must be the same\n",
    "    \n",
    "        "
   ]
  },
  {
   "cell_type": "code",
   "execution_count": null,
   "metadata": {},
   "outputs": [],
   "source": [
    "# normalize full data\n",
    "norm_lipid_df = normalize_data(lipid_df, out_fname='f_model/norm_full_lipid_df.pkl')\n",
    "norm_lipid_df.to_csv('f_data/norm_full_lipid_df_135.csv', sep='\\t', index=False)\n",
    "\n",
    "norm_metabolic_df = normalize_data(metabolic_df, out_fname='f_model/norm_full_metabolic_df.pkl')\n",
    "norm_metabolic_df.to_csv('f_data/norm_full_metabolic_df_135.csv', sep='\\t', index=False)\n",
    "\n",
    "norm_protein_df = normalize_data(protein_df, out_fname='f_model/norm_full_protein_df.pkl')\n",
    "norm_protein_df.to_csv('f_data/norm_full_protein_df_135.csv', sep='\\t', index=False)\n",
    "\n",
    "norm_mrna_df = normalize_data(mrna_df, out_fname='f_model/norm_full_mrna_df.pkl')\n",
    "norm_mrna_df.to_csv('f_data/norm_full_mrna_df_135.csv', sep='\\t', index=False)\n"
   ]
  },
  {
   "cell_type": "code",
   "execution_count": null,
   "metadata": {},
   "outputs": [],
   "source": [
    "# normalize train and test data seperately\n",
    "# lipid\n",
    "norm_train_lipid_df, norm_test_lipid_df = normalize_data(\n",
    "    lipid_df[lipid_df['PatientID'].isin(pid_train)],\n",
    "    out_fname='f_model/norm_train_test_lipid_df.pkl',\n",
    "    test_df=lipid_df[lipid_df['PatientID'].isin(pid_test)])\n",
    "norm_train_lipid_df.to_csv('f_data/norm_train_lipid_df_108.csv', sep='\\t', index=False)\n",
    "norm_test_lipid_df.to_csv('f_data/norm_test_lipid_df_27.csv', sep='\\t', index=False)\n",
    "\n",
    "# metabolic\n",
    "norm_train_metabolic_df, norm_test_metabolic_df = normalize_data(\n",
    "    metabolic_df[metabolic_df['PatientID'].isin(pid_train)], \n",
    "    out_fname='f_model/norm_train_test_metabolic_df.pkl',\n",
    "    test_df=metabolic_df[metabolic_df['PatientID'].isin(pid_test)])\n",
    "norm_train_metabolic_df.to_csv('f_data/norm_train_metabolic_df_108.csv', sep='\\t', index=False)\n",
    "norm_test_metabolic_df.to_csv('f_data/norm_test_metabolic_df_27.csv', sep='\\t', index=False)\n",
    "\n",
    "# protein\n",
    "norm_train_protein_df,norm_test_protein_df = normalize_data(\n",
    "    protein_df[protein_df['PatientID'].isin(pid_train)], \n",
    "    out_fname='f_model/norm_train_test_protein_df.pkl',\n",
    "    test_df=protein_df[protein_df['PatientID'].isin(pid_test)])\n",
    "norm_train_protein_df.to_csv('f_data/norm_train_protein_df_108.csv', sep='\\t', index=False)\n",
    "norm_test_protein_df.to_csv('f_data/norm_test_protein_df_27.csv', sep='\\t', index=False)\n",
    "\n",
    "# mrna\n",
    "norm_train_mrna_df,norm_test_mrna_df = normalize_data(\n",
    "    mrna_df[mrna_df['PatientID'].isin(pid_train)], \n",
    "    out_fname='f_model/norm_train_test_mrna_df.pkl', \n",
    "    test_df=mrna_df[mrna_df['PatientID'].isin(pid_test)])\n",
    "norm_train_mrna_df.to_csv('f_data/norm_train_mrna_df_108.csv', sep='\\t', index=False)\n",
    "norm_test_mrna_df.to_csv('f_data/norm_test_mrna_df_27.csv', sep='\\t', index=False)"
   ]
  },
  {
   "cell_type": "code",
   "execution_count": null,
   "metadata": {},
   "outputs": [],
   "source": [
    "norm_train_mrna_df.shape"
   ]
  },
  {
   "cell_type": "code",
   "execution_count": null,
   "metadata": {},
   "outputs": [],
   "source": [
    "norm_train_mrna_df.head()"
   ]
  },
  {
   "cell_type": "code",
   "execution_count": null,
   "metadata": {},
   "outputs": [],
   "source": []
  }
 ],
 "metadata": {
  "kernelspec": {
   "display_name": "Python 3",
   "language": "python",
   "name": "python3"
  },
  "language_info": {
   "codemirror_mode": {
    "name": "ipython",
    "version": 3
   },
   "file_extension": ".py",
   "mimetype": "text/x-python",
   "name": "python",
   "nbconvert_exporter": "python",
   "pygments_lexer": "ipython3",
   "version": "3.7.4"
  }
 },
 "nbformat": 4,
 "nbformat_minor": 4
}
