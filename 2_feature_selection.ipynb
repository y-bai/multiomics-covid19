{
 "cells": [
  {
   "cell_type": "code",
   "execution_count": 1,
   "metadata": {},
   "outputs": [],
   "source": [
    "import numpy as np\n",
    "import pandas as pd"
   ]
  },
  {
   "cell_type": "code",
   "execution_count": 6,
   "metadata": {},
   "outputs": [],
   "source": [
    "def get_data_mat(in_df):\n",
    "    x = in_df.iloc[:,:-5]\n",
    "    y = in_df.iloc[:,-1]\n",
    "    pat_id = in_df['PatientID'].values\n",
    "    feat_names = np.array(x.columns.to_list())\n",
    "    return x.values, y.values, feat_names, pat_id\n",
    "    \n",
    "def get_class_weight(y_train):\n",
    "    \n",
    "    from sklearn.utils.class_weight import compute_class_weight\n",
    "    cls = np.unique(y_train)\n",
    "    cls_weight = compute_class_weight('balanced', cls, y_train)\n",
    "    class_weight_dict = dict(zip(cls, cls_weight))\n",
    "    return class_weight_dict\n",
    "\n",
    "# (108), (27)\n",
    "def gen_train_test(x, y, test_ratio=0.2):\n",
    "    from sklearn.model_selection import train_test_split\n",
    "    X_train, X_test, y_train, y_test = train_test_split(x, y,\n",
    "                                                    stratify=y, \n",
    "                                                    test_size=test_ratio, random_state=123)\n",
    "    return X_train, X_test, y_train, y_test\n",
    "\n",
    "# Boruta selection\n",
    "def boruta_sel(X, y):\n",
    "    from sklearn.ensemble import RandomForestClassifier\n",
    "    from boruta import BorutaPy\n",
    "    \n",
    "    rf = RandomForestClassifier(n_jobs=-1, class_weight=get_class_weight(y), max_depth=5)\n",
    "    feat_selector = BorutaPy(rf, n_estimators='auto', verbose=0, random_state=1)\n",
    "    feat_selector.fit(X, y)\n",
    "    supp_ = feat_selector.support_\n",
    "    \n",
    "    # return columns index\n",
    "    return np.arange(X.shape[1])[supp_]\n",
    "\n",
    "# chi-square percentile\n",
    "# X is MinMaxScaler() and non-negative\n",
    "def chi_perc_sel(X, y, percentile=20):\n",
    "    \n",
    "    from sklearn.feature_selection import SelectPercentile, chi2\n",
    "    selector = SelectPercentile(chi2, percentile=percentile).fit(X, y)\n",
    "    supp_ = selector.get_support()\n",
    "    \n",
    "    # return columns index\n",
    "    return np.arange(X.shape[1])[supp_]\n",
    "\n",
    "# mutual-information\n",
    "# X is StandardScaler()\n",
    "def mi_perc_sel(X, y, percentile=20):\n",
    "    \n",
    "    from sklearn.feature_selection import SelectPercentile, mutual_info_classif\n",
    "    selector = SelectPercentile(mutual_info_classif, percentile=percentile).fit(X, y)\n",
    "    supp_ = selector.get_support()\n",
    "    \n",
    "    # return columns index\n",
    "    return np.arange(X.shape[1])[supp_]\n",
    "\n",
    "\n",
    "# forward selection\n",
    "# two slow\n",
    "def forw_sel(X, y, top_k_ratio=0.2):\n",
    "    \n",
    "    from mlxtend.feature_selection import SequentialFeatureSelector as SFS\n",
    "    from sklearn.svm import SVC\n",
    "    \n",
    "    sfs = SFS(SVC(kernel=\"linear\", class_weight=get_class_weight(y)),\n",
    "              k_features=int(X.shape[1]*top_k_ratio), \n",
    "              forward=True, \n",
    "              floating=False,\n",
    "              scoring='f1_weighted',#balanced_accuracy, f1_weighted\n",
    "              cv=5,\n",
    "              n_jobs=-1)\n",
    "    sfs = sfs.fit(X, y)\n",
    "    return sfs.k_feature_idx_\n",
    "\n",
    "# RFE\n",
    "# method candidate\n",
    "def rfe_sel(X, y,top_k_ratio=0.2):\n",
    "    \n",
    "    from sklearn.feature_selection import RFE\n",
    "    from sklearn.svm import SVC\n",
    "    \n",
    "    selector = RFE(SVC(kernel=\"linear\", class_weight=get_class_weight(y)),\n",
    "                   n_features_to_select=int(X.shape[1]*top_k_ratio), \n",
    "                   step=1).fit(X, y)\n",
    "    supp_ = selector.support_\n",
    "    \n",
    "    return np.arange(X.shape[1])[supp_]\n",
    "\n",
    "def feat_sel_comb(in_df, method='mi', percentile=30):\n",
    "    x, y, feat_names, pat_id = get_data_mat(in_df)\n",
    "    bor_s = boruta_sel(x, y)\n",
    "    if method == 'chi':\n",
    "        chi_sel = chi_perc_sel(x, y, percentile=percentile)\n",
    "    else:\n",
    "        chi_sel = mi_perc_sel(x, y, percentile=percentile)\n",
    "    comb_feats_index = np.array(sorted(list(set.intersection(set(bor_s),set(chi_sel)))))\n",
    "    sel_df = pd.DataFrame(data=x[:,comb_feats_index], columns=feat_names[comb_feats_index])\n",
    "    sel_df['label'] = y\n",
    "    sel_df['pat_id'] = pat_id\n",
    "    return sel_df"
   ]
  },
  {
   "cell_type": "code",
   "execution_count": 4,
   "metadata": {},
   "outputs": [
    {
     "name": "stderr",
     "output_type": "stream",
     "text": [
      "/Users/yong/opt/anaconda3/lib/python3.7/site-packages/sklearn/utils/validation.py:71: FutureWarning: Pass classes=[0 1 2 3], y=[0 0 0 0 0 0 0 0 0 1 1 1 1 2 1 1 0 0 2 2 3 3 2 3 1 0 1 1 1 1 3 2 1 1 1 1 1\n",
      " 2 2 1 3 0 0 0 0 0 0 0 0 1 2 3 1 3 0 2 2 0 2 2 2 1 2 2 2 1 3 1 0 0 0 0 0 0\n",
      " 0 0 3 0 0 0 1 3 0 0 0 0 0 0 3 0 2 1 1 2 0 2 2 2 3 2 1 1 2 1 1 0 0 0 0 0 0\n",
      " 0 0 0 0 3 2 3 3 1 1 1 1 1 1 1 1 1 0 0 3 2 2 2 1] as keyword args. From version 0.25 passing these as positional arguments will result in an error\n",
      "  FutureWarning)\n",
      "/Users/yong/opt/anaconda3/lib/python3.7/site-packages/sklearn/utils/validation.py:71: FutureWarning: Pass classes=[0 1 2 3], y=[0 0 0 0 0 0 0 0 0 1 1 1 1 2 1 1 0 0 2 2 3 3 2 3 1 0 1 1 1 1 3 2 1 1 1 1 1\n",
      " 2 2 1 3 0 0 0 0 0 0 0 0 1 2 3 1 3 0 2 2 0 2 2 2 1 2 2 2 1 3 1 0 0 0 0 0 0\n",
      " 0 0 3 0 0 0 1 3 0 0 0 0 0 0 3 0 2 1 1 2 0 2 2 2 3 2 1 1 2 1 1 0 0 0 0 0 0\n",
      " 0 0 0 0 3 2 3 3 1 1 1 1 1 1 1 1 1 0 0 3 2 2 2 1] as keyword args. From version 0.25 passing these as positional arguments will result in an error\n",
      "  FutureWarning)\n",
      "/Users/yong/opt/anaconda3/lib/python3.7/site-packages/sklearn/utils/validation.py:71: FutureWarning: Pass classes=[0 1 2 3], y=[0 0 0 0 0 0 0 0 0 1 1 1 1 2 1 1 0 0 2 2 3 3 2 3 1 0 1 1 1 1 3 2 1 1 1 1 1\n",
      " 2 2 1 3 0 0 0 0 0 0 0 0 1 2 3 1 0 0 2 2 0 2 2 2 1 2 2 2 1 3 1 0 0 3 0 0 0\n",
      " 0 0 3 0 0 0 1 3 0 0 0 0 0 0 3 0 2 1 1 2 0 2 2 2 3 2 1 1 2 1 1 0 0 0 0 0 0\n",
      " 0 0 0 0 3 2 3 3 1 1 1 1 1 1 1 1 1 0 0 3 2 2 2 1] as keyword args. From version 0.25 passing these as positional arguments will result in an error\n",
      "  FutureWarning)\n",
      "/Users/yong/opt/anaconda3/lib/python3.7/site-packages/sklearn/utils/validation.py:71: FutureWarning: Pass classes=[0 1 2 3], y=[0 0 0 0 0 0 0 0 0 1 1 1 1 2 1 1 0 0 2 2 3 3 2 3 1 0 1 1 1 1 3 2 1 1 1 1 1\n",
      " 2 2 1 3 0 0 0 0 0 0 0 0 1 2 3 1 3 0 2 2 0 2 2 2 1 2 2 2 1 3 1 0 0 0 0 0 0\n",
      " 0 0 3 0 0 0 1 3 0 0 0 0 0 0 3 0 2 1 1 2 0 2 2 2 3 2 1 1 2 1 1 0 0 0 0 0 0\n",
      " 0 0 0 0 3 2 3 3 1 1 1 1 1 1 1 1 1 0 0 3 2 2 2 1] as keyword args. From version 0.25 passing these as positional arguments will result in an error\n",
      "  FutureWarning)\n"
     ]
    }
   ],
   "source": [
    "# get full normalized data\n",
    "norm_lipid_df=pd.read_csv('f_data/norm_full_lipid_df_135.csv', sep='\\t')\n",
    "norm_metabolic_df=pd.read_csv('f_data/norm_full_metabolic_df_135.csv', sep='\\t')\n",
    "norm_protein_df=pd.read_csv('f_data/norm_full_protein_df_135.csv', sep='\\t')\n",
    "norm_mrna_df=pd.read_csv('f_data/norm_full_mrna_df_135.csv', sep='\\t')\n",
    "\n",
    "sel_lipid_df = feat_sel_comb(norm_lipid_df)\n",
    "sel_metabolic_df = feat_sel_comb(norm_metabolic_df)\n",
    "sel_protein_df = feat_sel_comb(norm_protein_df)\n",
    "sel_mrna_df = feat_sel_comb(norm_mrna_df)\n",
    "\n",
    "sel_lipid_df.to_csv('f_data/full_sel_lipid_df_mi_135.csv', index=False, sep='\\t')\n",
    "sel_metabolic_df.to_csv('f_data/full_sel_metabolic_df_mi_135.csv', index=False, sep='\\t')\n",
    "sel_protein_df.to_csv('f_data/full_sel_protein_df_mi_135.csv', index=False, sep='\\t')\n",
    "sel_mrna_df.to_csv('f_data/full_sel_mrna_df_mi_135.csv', index=False, sep='\\t')"
   ]
  },
  {
   "cell_type": "code",
   "execution_count": 5,
   "metadata": {},
   "outputs": [
    {
     "data": {
      "text/plain": [
       "(50, 73, 108, 143)"
      ]
     },
     "execution_count": 5,
     "metadata": {},
     "output_type": "execute_result"
    }
   ],
   "source": [
    "sel_lipid_df.shape[1]-2,sel_metabolic_df.shape[1]-2, sel_protein_df.shape[1]-2, sel_mrna_df.shape[1]-2"
   ]
  },
  {
   "cell_type": "code",
   "execution_count": 7,
   "metadata": {},
   "outputs": [
    {
     "name": "stderr",
     "output_type": "stream",
     "text": [
      "/Users/yong/opt/anaconda3/lib/python3.7/site-packages/sklearn/utils/validation.py:71: FutureWarning: Pass classes=[0 1 2 3], y=[0 0 0 0 0 0 0 0 1 1 1 1 2 1 1 0 0 2 2 3 2 3 0 1 1 1 1 2 1 1 1 2 3 0 0 0 0\n",
      " 0 0 1 2 3 1 3 0 2 0 2 2 2 1 2 2 1 3 1 0 0 0 0 0 0 3 0 0 3 0 0 0 3 0 2 1 1\n",
      " 2 0 2 2 2 3 2 1 2 1 1 0 0 0 0 0 0 0 0 3 3 1 1 1 1 1 1 1 0 0 3 2 2 1] as keyword args. From version 0.25 passing these as positional arguments will result in an error\n",
      "  FutureWarning)\n",
      "/Users/yong/opt/anaconda3/lib/python3.7/site-packages/sklearn/utils/validation.py:71: FutureWarning: Pass classes=[0 1 2 3], y=[0 0 0 0 0 0 0 0 1 1 1 1 2 1 1 0 0 2 2 3 2 3 0 1 1 1 1 2 1 1 1 2 3 0 0 0 0\n",
      " 0 0 1 2 3 1 3 0 2 0 2 2 2 1 2 2 1 3 1 0 0 0 0 0 0 3 0 0 3 0 0 0 3 0 2 1 1\n",
      " 2 0 2 2 2 3 2 1 2 1 1 0 0 0 0 0 0 0 0 3 3 1 1 1 1 1 1 1 0 0 3 2 2 1] as keyword args. From version 0.25 passing these as positional arguments will result in an error\n",
      "  FutureWarning)\n",
      "/Users/yong/opt/anaconda3/lib/python3.7/site-packages/sklearn/utils/validation.py:71: FutureWarning: Pass classes=[0 1 2 3], y=[0 0 0 0 0 0 0 0 1 1 1 1 2 1 1 0 0 2 2 3 2 3 0 1 1 1 1 2 1 1 1 2 3 0 0 0 0\n",
      " 0 0 1 2 3 1 0 0 2 0 2 2 2 1 2 2 1 3 1 0 3 0 0 0 0 3 0 0 3 0 0 0 3 0 2 1 1\n",
      " 2 0 2 2 2 3 2 1 2 1 1 0 0 0 0 0 0 0 0 3 3 1 1 1 1 1 1 1 0 0 3 2 2 1] as keyword args. From version 0.25 passing these as positional arguments will result in an error\n",
      "  FutureWarning)\n",
      "/Users/yong/opt/anaconda3/lib/python3.7/site-packages/sklearn/utils/validation.py:71: FutureWarning: Pass classes=[0 1 2 3], y=[0 0 0 0 0 0 0 0 1 1 1 1 2 1 1 0 0 2 2 3 2 3 0 1 1 1 1 2 1 1 1 2 3 0 0 0 0\n",
      " 0 0 1 2 3 1 3 0 2 0 2 2 2 1 2 2 1 3 1 0 0 0 0 0 0 3 0 0 3 0 0 0 3 0 2 1 1\n",
      " 2 0 2 2 2 3 2 1 2 1 1 0 0 0 0 0 0 0 0 3 3 1 1 1 1 1 1 1 0 0 3 2 2 1] as keyword args. From version 0.25 passing these as positional arguments will result in an error\n",
      "  FutureWarning)\n"
     ]
    }
   ],
   "source": [
    "# get train normalized data\n",
    "norm_train_lipid_df=pd.read_csv('f_data/norm_train_lipid_df_108.csv', sep='\\t')\n",
    "norm_train_metabolic_df=pd.read_csv('f_data/norm_train_metabolic_df_108.csv', sep='\\t')\n",
    "norm_train_protein_df=pd.read_csv('f_data/norm_train_protein_df_108.csv', sep='\\t')\n",
    "norm_train_mrna_df=pd.read_csv('f_data/norm_train_mrna_df_108.csv', sep='\\t')\n",
    "\n",
    "norm_sel_lipid_df = feat_sel_comb(norm_train_lipid_df)\n",
    "norm_sel_metabolic_df = feat_sel_comb(norm_train_metabolic_df)\n",
    "norm_sel_protein_df = feat_sel_comb(norm_train_protein_df)\n",
    "norm_sel_mrna_df = feat_sel_comb(norm_train_mrna_df)\n",
    "\n",
    "norm_sel_lipid_df.to_csv('f_data/train_norm_sel_lipid_df_mi_108.csv', index=False, sep='\\t')\n",
    "norm_sel_metabolic_df.to_csv('f_data/train_norm_sel_metabolic_df_mi_108.csv', index=False, sep='\\t')\n",
    "norm_sel_protein_df.to_csv('f_data/train_norm_sel_protein_df_mi_108.csv', index=False, sep='\\t')\n",
    "norm_sel_mrna_df.to_csv('f_data/train_norm_sel_mrna_df_mi_108.csv', index=False, sep='\\t')"
   ]
  },
  {
   "cell_type": "code",
   "execution_count": 8,
   "metadata": {},
   "outputs": [
    {
     "data": {
      "text/plain": [
       "(42, 64, 98, 93)"
      ]
     },
     "execution_count": 8,
     "metadata": {},
     "output_type": "execute_result"
    }
   ],
   "source": [
    "norm_sel_lipid_df.shape[1]-2,norm_sel_metabolic_df.shape[1]-2, norm_sel_protein_df.shape[1]-2, norm_sel_mrna_df.shape[1]-2\n"
   ]
  },
  {
   "cell_type": "code",
   "execution_count": null,
   "metadata": {},
   "outputs": [],
   "source": []
  },
  {
   "cell_type": "code",
   "execution_count": null,
   "metadata": {},
   "outputs": [],
   "source": []
  }
 ],
 "metadata": {
  "kernelspec": {
   "display_name": "Python 3",
   "language": "python",
   "name": "python3"
  },
  "language_info": {
   "codemirror_mode": {
    "name": "ipython",
    "version": 3
   },
   "file_extension": ".py",
   "mimetype": "text/x-python",
   "name": "python",
   "nbconvert_exporter": "python",
   "pygments_lexer": "ipython3",
   "version": "3.7.4"
  }
 },
 "nbformat": 4,
 "nbformat_minor": 4
}
